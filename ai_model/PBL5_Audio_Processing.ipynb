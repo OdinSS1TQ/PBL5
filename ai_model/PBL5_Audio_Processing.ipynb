{
 "cells": [
  {
   "cell_type": "markdown",
   "metadata": {},
   "source": [
    "# 📌 Ghi Âm, Lưu và Trích Xuất Đặc Trưng MFCC từ Giọng Nói\n",
    "## **PBL5 - Smart Home AI Voice Recognition**\n",
    "Notebook này hướng dẫn từng bước để:\n",
    "- Kết nối Google Drive\n",
    "- Ghi âm giọng nói và lưu dưới dạng `.wav`\n",
    "- Trích xuất đặc trưng MFCC để huấn luyện mô hình AI\n"
   ]
  },
  {
   "cell_type": "markdown",
   "metadata": {},
   "source": [
    "## **1️⃣ Kết nối Google Drive**"
   ]
  },
  {
   "cell_type": "code",
   "execution_count": null,
   "metadata": {},
   "outputs": [],
   "source": [
    "from google.colab import drive\n",
    "drive.mount('/content/drive')"
   ]
  },
  {
   "cell_type": "markdown",
   "metadata": {},
   "source": [
    "## **2️⃣ Tạo thư mục lưu dữ liệu**"
   ]
  },
  {
   "cell_type": "code",
   "execution_count": null,
   "metadata": {},
   "outputs": [],
   "source": [
    "import os\n",
    "\n",
    "# Đường dẫn thư mục trong Google Drive\n",
    "base_dir = '/content/drive/MyDrive/Colab_Notebooks/PBL5'\n",
    "voice_dir = os.path.join(base_dir, 'voice_data')\n",
    "\n",
    "# Tạo thư mục nếu chưa có\n",
    "os.makedirs(voice_dir, exist_ok=True)\n",
    "print(f'Thư mục lưu dữ liệu: {voice_dir}')"
   ]
  },
  {
   "cell_type": "markdown",
   "metadata": {},
   "source": [
    "## **3️⃣ Ghi âm và lưu file .wav**"
   ]
  },
  {
   "cell_type": "code",
   "execution_count": null,
   "metadata": {},
   "outputs": [],
   "source": [
    "import sounddevice as sd\n",
    "from scipy.io.wavfile import write\n",
    "import numpy as np\n",
    "\n",
    "fs = 44100  # Tần số lấy mẫu (Hz)\n",
    "seconds = 5  # Thời gian ghi âm\n",
    "\n",
    "user_name = 'user_A'  # Đổi thành tên người dùng\n",
    "file_path = os.path.join(voice_dir, f'{user_name}.wav')\n",
    "\n",
    "print('Bắt đầu ghi âm...')\n",
    "recording = sd.rec(int(seconds * fs), samplerate=fs, channels=1, dtype=np.int16)\n",
    "sd.wait()\n",
    "print('Ghi âm xong!')\n",
    "\n",
    "# Lưu file vào Google Drive\n",
    "write(file_path, fs, recording)\n",
    "print(f'File đã lưu tại: {file_path}')"
   ]
  },
  {
   "cell_type": "markdown",
   "metadata": {},
   "source": [
    "## **4️⃣ Kiểm tra danh sách file đã ghi âm**"
   ]
  },
  {
   "cell_type": "code",
   "execution_count": 1,
   "metadata": {},
   "outputs": [
    {
     "ename": "NameError",
     "evalue": "name 'os' is not defined",
     "output_type": "error",
     "traceback": [
      "\u001b[1;31m---------------------------------------------------------------------------\u001b[0m",
      "\u001b[1;31mNameError\u001b[0m                                 Traceback (most recent call last)",
      "Cell \u001b[1;32mIn[1], line 3\u001b[0m\n\u001b[0;32m      1\u001b[0m \u001b[38;5;28;01mimport\u001b[39;00m\u001b[38;5;250m \u001b[39m\u001b[38;5;21;01mglob\u001b[39;00m\n\u001b[1;32m----> 3\u001b[0m file_list \u001b[38;5;241m=\u001b[39m glob\u001b[38;5;241m.\u001b[39mglob(\u001b[43mos\u001b[49m\u001b[38;5;241m.\u001b[39mpath\u001b[38;5;241m.\u001b[39mjoin(voice_dir, \u001b[38;5;124m'\u001b[39m\u001b[38;5;124m*.wav\u001b[39m\u001b[38;5;124m'\u001b[39m))\n\u001b[0;32m      4\u001b[0m \u001b[38;5;28mprint\u001b[39m(\u001b[38;5;124m'\u001b[39m\u001b[38;5;124mDanh sách file ghi âm:\u001b[39m\u001b[38;5;124m'\u001b[39m)\n\u001b[0;32m      5\u001b[0m \u001b[38;5;28mprint\u001b[39m(file_list)\n",
      "\u001b[1;31mNameError\u001b[0m: name 'os' is not defined"
     ]
    }
   ],
   "source": [
    "import glob\n",
    "\n",
    "file_list = glob.glob(os.path.join(voice_dir, '*.wav'))\n",
    "print('Danh sách file ghi âm:')\n",
    "print(file_list)"
   ]
  },
  {
   "cell_type": "markdown",
   "metadata": {},
   "source": [
    "## **5️⃣ Load file .wav và trích xuất đặc trưng MFCC**"
   ]
  },
  {
   "cell_type": "code",
   "execution_count": null,
   "metadata": {},
   "outputs": [],
   "source": [
    "import librosa\n",
    "import librosa.display\n",
    "import matplotlib.pyplot as plt\n",
    "\n",
    "file_path = file_list[0]  # Chọn file đầu tiên\n",
    "y, sr = librosa.load(file_path, sr=None)\n",
    "mfccs = librosa.feature.mfcc(y=y, sr=sr, n_mfcc=13)\n",
    "\n",
    "plt.figure(figsize=(10, 6))\n",
    "librosa.display.specshow(mfccs, sr=sr, x_axis='time')\n",
    "plt.colorbar(format='%+2.0f dB')\n",
    "plt.title('MFCC của giọng nói')\n",
    "plt.tight_layout()\n",
    "plt.show()"
   ]
  },
  {
   "cell_type": "markdown",
   "metadata": {},
   "source": [
    "## **6️⃣ Chuẩn bị dữ liệu cho quá trình training**"
   ]
  },
  {
   "cell_type": "code",
   "execution_count": null,
   "metadata": {},
   "outputs": [],
   "source": [
    "X_train = []  # Danh sách đặc trưng MFCC\n",
    "y_train = []  # Nhãn tương ứng\n",
    "\n",
    "for file in file_list:\n",
    "    y, sr = librosa.load(file, sr=None)\n",
    "    mfccs = librosa.feature.mfcc(y=y, sr=sr, n_mfcc=13)\n",
    "    X_train.append(mfccs)\n",
    "    y_train.append(file.split('/')[-1].split('.')[0])  # Lưu tên file làm nhãn\n",
    "\n",
    "print('Dữ liệu đã được chuẩn bị xong!')"
   ]
  },
  {
   "cell_type": "markdown",
   "metadata": {},
   "source": [
    "## **✅ Hoàn tất: Dữ liệu đã sẵn sàng để huấn luyện mô hình AI!**"
   ]
  }
 ],
 "metadata": {
  "kernelspec": {
   "display_name": "Python 3",
   "language": "python",
   "name": "python3"
  },
  "language_info": {
   "codemirror_mode": {
    "name": "ipython",
    "version": 3
   },
   "file_extension": ".py",
   "mimetype": "text/x-python",
   "name": "python",
   "nbconvert_exporter": "python",
   "pygments_lexer": "ipython3",
   "version": "3.10.6"
  }
 },
 "nbformat": 4,
 "nbformat_minor": 4
}
