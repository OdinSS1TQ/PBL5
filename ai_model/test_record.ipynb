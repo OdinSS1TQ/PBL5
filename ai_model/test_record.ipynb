{
 "cells": [
  {
   "cell_type": "code",
   "execution_count": 1,
   "metadata": {},
   "outputs": [
    {
     "name": "stdout",
     "output_type": "stream",
     "text": [
      "Requirement already satisfied: sounddevice in c:\\users\\laptop ak\\appdata\\local\\programs\\python\\python310\\lib\\site-packages (0.5.1)\n",
      "Requirement already satisfied: soundfile in c:\\users\\laptop ak\\appdata\\local\\programs\\python\\python310\\lib\\site-packages (0.13.1)\n",
      "Requirement already satisfied: CFFI>=1.0 in c:\\users\\laptop ak\\appdata\\local\\programs\\python\\python310\\lib\\site-packages (from sounddevice) (1.17.1)\n",
      "Requirement already satisfied: numpy in c:\\users\\laptop ak\\appdata\\local\\programs\\python\\python310\\lib\\site-packages (from soundfile) (1.26.4)\n",
      "Requirement already satisfied: pycparser in c:\\users\\laptop ak\\appdata\\local\\programs\\python\\python310\\lib\\site-packages (from CFFI>=1.0->sounddevice) (2.22)\n"
     ]
    }
   ],
   "source": [
    "!pip install sounddevice soundfile\n",
    "import sounddevice as sd\n",
    "import soundfile as sf\n",
    "import numpy as np "
   ]
  },
  {
   "cell_type": "code",
   "execution_count": 1,
   "metadata": {},
   "outputs": [
    {
     "name": "stdout",
     "output_type": "stream",
     "text": [
      "Danh sách thiết bị âm thanh có sẵn:\n",
      "\n",
      "0: {'name': 'Microsoft Sound Mapper - Input', 'index': 0, 'hostapi': 0, 'max_input_channels': 2, 'max_output_channels': 0, 'default_low_input_latency': 0.09, 'default_low_output_latency': 0.09, 'default_high_input_latency': 0.18, 'default_high_output_latency': 0.18, 'default_samplerate': 44100.0}\n",
      "1: {'name': 'Headset (USB Audio)', 'index': 1, 'hostapi': 0, 'max_input_channels': 1, 'max_output_channels': 0, 'default_low_input_latency': 0.09, 'default_low_output_latency': 0.09, 'default_high_input_latency': 0.18, 'default_high_output_latency': 0.18, 'default_samplerate': 44100.0}\n",
      "2: {'name': 'Microphone (DroidCam Virtual Au', 'index': 2, 'hostapi': 0, 'max_input_channels': 1, 'max_output_channels': 0, 'default_low_input_latency': 0.09, 'default_low_output_latency': 0.09, 'default_high_input_latency': 0.18, 'default_high_output_latency': 0.18, 'default_samplerate': 44100.0}\n",
      "3: {'name': 'Microphone (e2eSoft iVCam)', 'index': 3, 'hostapi': 0, 'max_input_channels': 2, 'max_output_channels': 0, 'default_low_input_latency': 0.09, 'default_low_output_latency': 0.09, 'default_high_input_latency': 0.18, 'default_high_output_latency': 0.18, 'default_samplerate': 44100.0}\n",
      "4: {'name': 'Microphone (DGM20 USB Microphon', 'index': 4, 'hostapi': 0, 'max_input_channels': 2, 'max_output_channels': 0, 'default_low_input_latency': 0.09, 'default_low_output_latency': 0.09, 'default_high_input_latency': 0.18, 'default_high_output_latency': 0.18, 'default_samplerate': 44100.0}\n",
      "5: {'name': 'Microphone Array (AMD Audio Dev', 'index': 5, 'hostapi': 0, 'max_input_channels': 2, 'max_output_channels': 0, 'default_low_input_latency': 0.09, 'default_low_output_latency': 0.09, 'default_high_input_latency': 0.18, 'default_high_output_latency': 0.18, 'default_samplerate': 44100.0}\n",
      "6: {'name': 'Microsoft Sound Mapper - Output', 'index': 6, 'hostapi': 0, 'max_input_channels': 0, 'max_output_channels': 2, 'default_low_input_latency': 0.09, 'default_low_output_latency': 0.09, 'default_high_input_latency': 0.18, 'default_high_output_latency': 0.18, 'default_samplerate': 44100.0}\n",
      "7: {'name': 'Headset (USB Audio)', 'index': 7, 'hostapi': 0, 'max_input_channels': 0, 'max_output_channels': 2, 'default_low_input_latency': 0.09, 'default_low_output_latency': 0.09, 'default_high_input_latency': 0.18, 'default_high_output_latency': 0.18, 'default_samplerate': 44100.0}\n",
      "8: {'name': 'Headphones (DGM20 USB Microphon', 'index': 8, 'hostapi': 0, 'max_input_channels': 0, 'max_output_channels': 2, 'default_low_input_latency': 0.09, 'default_low_output_latency': 0.09, 'default_high_input_latency': 0.18, 'default_high_output_latency': 0.18, 'default_samplerate': 44100.0}\n",
      "9: {'name': 'IP2706SG (NVIDIA High Definitio', 'index': 9, 'hostapi': 0, 'max_input_channels': 0, 'max_output_channels': 2, 'default_low_input_latency': 0.09, 'default_low_output_latency': 0.09, 'default_high_input_latency': 0.18, 'default_high_output_latency': 0.18, 'default_samplerate': 44100.0}\n",
      "10: {'name': 'Speaker (Realtek(R) Audio)', 'index': 10, 'hostapi': 0, 'max_input_channels': 0, 'max_output_channels': 2, 'default_low_input_latency': 0.09, 'default_low_output_latency': 0.09, 'default_high_input_latency': 0.18, 'default_high_output_latency': 0.18, 'default_samplerate': 44100.0}\n",
      "11: {'name': 'Primary Sound Capture Driver', 'index': 11, 'hostapi': 1, 'max_input_channels': 2, 'max_output_channels': 0, 'default_low_input_latency': 0.12, 'default_low_output_latency': 0.0, 'default_high_input_latency': 0.24, 'default_high_output_latency': 0.0, 'default_samplerate': 44100.0}\n",
      "12: {'name': 'Headset (USB Audio)', 'index': 12, 'hostapi': 1, 'max_input_channels': 1, 'max_output_channels': 0, 'default_low_input_latency': 0.12, 'default_low_output_latency': 0.0, 'default_high_input_latency': 0.24, 'default_high_output_latency': 0.0, 'default_samplerate': 44100.0}\n",
      "13: {'name': 'Microphone (DroidCam Virtual Audio)', 'index': 13, 'hostapi': 1, 'max_input_channels': 1, 'max_output_channels': 0, 'default_low_input_latency': 0.12, 'default_low_output_latency': 0.0, 'default_high_input_latency': 0.24, 'default_high_output_latency': 0.0, 'default_samplerate': 44100.0}\n",
      "14: {'name': 'Microphone (e2eSoft iVCam)', 'index': 14, 'hostapi': 1, 'max_input_channels': 2, 'max_output_channels': 0, 'default_low_input_latency': 0.12, 'default_low_output_latency': 0.0, 'default_high_input_latency': 0.24, 'default_high_output_latency': 0.0, 'default_samplerate': 44100.0}\n",
      "15: {'name': 'Microphone (DGM20 USB Microphone)', 'index': 15, 'hostapi': 1, 'max_input_channels': 2, 'max_output_channels': 0, 'default_low_input_latency': 0.12, 'default_low_output_latency': 0.0, 'default_high_input_latency': 0.24, 'default_high_output_latency': 0.0, 'default_samplerate': 44100.0}\n",
      "16: {'name': 'Microphone Array (AMD Audio Device)', 'index': 16, 'hostapi': 1, 'max_input_channels': 2, 'max_output_channels': 0, 'default_low_input_latency': 0.12, 'default_low_output_latency': 0.0, 'default_high_input_latency': 0.24, 'default_high_output_latency': 0.0, 'default_samplerate': 44100.0}\n",
      "17: {'name': 'Primary Sound Driver', 'index': 17, 'hostapi': 1, 'max_input_channels': 0, 'max_output_channels': 2, 'default_low_input_latency': 0.0, 'default_low_output_latency': 0.12, 'default_high_input_latency': 0.0, 'default_high_output_latency': 0.24, 'default_samplerate': 44100.0}\n",
      "18: {'name': 'Headset (USB Audio)', 'index': 18, 'hostapi': 1, 'max_input_channels': 0, 'max_output_channels': 2, 'default_low_input_latency': 0.0, 'default_low_output_latency': 0.12, 'default_high_input_latency': 0.0, 'default_high_output_latency': 0.24, 'default_samplerate': 44100.0}\n",
      "19: {'name': 'Headphones (DGM20 USB Microphone)', 'index': 19, 'hostapi': 1, 'max_input_channels': 0, 'max_output_channels': 2, 'default_low_input_latency': 0.0, 'default_low_output_latency': 0.12, 'default_high_input_latency': 0.0, 'default_high_output_latency': 0.24, 'default_samplerate': 44100.0}\n",
      "20: {'name': 'IP2706SG (NVIDIA High Definition Audio)', 'index': 20, 'hostapi': 1, 'max_input_channels': 0, 'max_output_channels': 2, 'default_low_input_latency': 0.0, 'default_low_output_latency': 0.12, 'default_high_input_latency': 0.0, 'default_high_output_latency': 0.24, 'default_samplerate': 44100.0}\n",
      "21: {'name': 'Speaker (Realtek(R) Audio)', 'index': 21, 'hostapi': 1, 'max_input_channels': 0, 'max_output_channels': 2, 'default_low_input_latency': 0.0, 'default_low_output_latency': 0.12, 'default_high_input_latency': 0.0, 'default_high_output_latency': 0.24, 'default_samplerate': 44100.0}\n",
      "22: {'name': 'Headphones (DGM20 USB Microphone)', 'index': 22, 'hostapi': 2, 'max_input_channels': 0, 'max_output_channels': 2, 'default_low_input_latency': 0.0, 'default_low_output_latency': 0.003, 'default_high_input_latency': 0.0, 'default_high_output_latency': 0.01, 'default_samplerate': 48000.0}\n",
      "23: {'name': 'IP2706SG (NVIDIA High Definition Audio)', 'index': 23, 'hostapi': 2, 'max_input_channels': 0, 'max_output_channels': 2, 'default_low_input_latency': 0.0, 'default_low_output_latency': 0.003, 'default_high_input_latency': 0.0, 'default_high_output_latency': 0.01, 'default_samplerate': 48000.0}\n",
      "24: {'name': 'Headset (USB Audio)', 'index': 24, 'hostapi': 2, 'max_input_channels': 0, 'max_output_channels': 2, 'default_low_input_latency': 0.0, 'default_low_output_latency': 0.003, 'default_high_input_latency': 0.0, 'default_high_output_latency': 0.01, 'default_samplerate': 48000.0}\n",
      "25: {'name': 'Speaker (Realtek(R) Audio)', 'index': 25, 'hostapi': 2, 'max_input_channels': 0, 'max_output_channels': 2, 'default_low_input_latency': 0.0, 'default_low_output_latency': 0.003, 'default_high_input_latency': 0.0, 'default_high_output_latency': 0.0106667, 'default_samplerate': 48000.0}\n",
      "26: {'name': 'Headset (USB Audio)', 'index': 26, 'hostapi': 2, 'max_input_channels': 1, 'max_output_channels': 0, 'default_low_input_latency': 0.003, 'default_low_output_latency': 0.0, 'default_high_input_latency': 0.01, 'default_high_output_latency': 0.0, 'default_samplerate': 48000.0}\n",
      "27: {'name': 'Microphone (DroidCam Virtual Audio)', 'index': 27, 'hostapi': 2, 'max_input_channels': 1, 'max_output_channels': 0, 'default_low_input_latency': 0.003, 'default_low_output_latency': 0.0, 'default_high_input_latency': 0.01, 'default_high_output_latency': 0.0, 'default_samplerate': 16000.0}\n",
      "28: {'name': 'Microphone (e2eSoft iVCam)', 'index': 28, 'hostapi': 2, 'max_input_channels': 2, 'max_output_channels': 0, 'default_low_input_latency': 0.003, 'default_low_output_latency': 0.0, 'default_high_input_latency': 0.01, 'default_high_output_latency': 0.0, 'default_samplerate': 44100.0}\n",
      "29: {'name': 'Microphone (DGM20 USB Microphone)', 'index': 29, 'hostapi': 2, 'max_input_channels': 2, 'max_output_channels': 0, 'default_low_input_latency': 0.003, 'default_low_output_latency': 0.0, 'default_high_input_latency': 0.01, 'default_high_output_latency': 0.0, 'default_samplerate': 48000.0}\n",
      "30: {'name': 'Microphone Array (AMD Audio Device)', 'index': 30, 'hostapi': 2, 'max_input_channels': 2, 'max_output_channels': 0, 'default_low_input_latency': 0.003, 'default_low_output_latency': 0.0, 'default_high_input_latency': 0.0106667, 'default_high_output_latency': 0.0, 'default_samplerate': 48000.0}\n",
      "31: {'name': 'Speakers 1 (Realtek HD Audio output with HAP)', 'index': 31, 'hostapi': 3, 'max_input_channels': 0, 'max_output_channels': 2, 'default_low_input_latency': 0.01, 'default_low_output_latency': 0.01, 'default_high_input_latency': 0.04, 'default_high_output_latency': 0.04, 'default_samplerate': 48000.0}\n",
      "32: {'name': 'Speakers 2 (Realtek HD Audio output with HAP)', 'index': 32, 'hostapi': 3, 'max_input_channels': 0, 'max_output_channels': 2, 'default_low_input_latency': 0.01, 'default_low_output_latency': 0.01, 'default_high_input_latency': 0.04, 'default_high_output_latency': 0.04, 'default_samplerate': 44100.0}\n",
      "33: {'name': 'PC Speaker (Realtek HD Audio output with HAP)', 'index': 33, 'hostapi': 3, 'max_input_channels': 2, 'max_output_channels': 0, 'default_low_input_latency': 0.01, 'default_low_output_latency': 0.01, 'default_high_input_latency': 0.04, 'default_high_output_latency': 0.04, 'default_samplerate': 48000.0}\n",
      "34: {'name': 'Microphone (Realtek HD Audio Mic input)', 'index': 34, 'hostapi': 3, 'max_input_channels': 2, 'max_output_channels': 0, 'default_low_input_latency': 0.01, 'default_low_output_latency': 0.01, 'default_high_input_latency': 0.04, 'default_high_output_latency': 0.04, 'default_samplerate': 44100.0}\n",
      "35: {'name': 'Stereo Mix (Realtek HD Audio Stereo input)', 'index': 35, 'hostapi': 3, 'max_input_channels': 2, 'max_output_channels': 0, 'default_low_input_latency': 0.01, 'default_low_output_latency': 0.01, 'default_high_input_latency': 0.04, 'default_high_output_latency': 0.04, 'default_samplerate': 48000.0}\n",
      "36: {'name': 'Headphones 1 (Realtek HD Audio 2nd output with HAP)', 'index': 36, 'hostapi': 3, 'max_input_channels': 0, 'max_output_channels': 2, 'default_low_input_latency': 0.01, 'default_low_output_latency': 0.01, 'default_high_input_latency': 0.04, 'default_high_output_latency': 0.04, 'default_samplerate': 48000.0}\n",
      "37: {'name': 'Headphones 2 (Realtek HD Audio 2nd output with HAP)', 'index': 37, 'hostapi': 3, 'max_input_channels': 0, 'max_output_channels': 2, 'default_low_input_latency': 0.01, 'default_low_output_latency': 0.01, 'default_high_input_latency': 0.04, 'default_high_output_latency': 0.04, 'default_samplerate': 44100.0}\n",
      "38: {'name': 'PC Speaker (Realtek HD Audio 2nd output with HAP)', 'index': 38, 'hostapi': 3, 'max_input_channels': 2, 'max_output_channels': 0, 'default_low_input_latency': 0.01, 'default_low_output_latency': 0.01, 'default_high_input_latency': 0.04, 'default_high_output_latency': 0.04, 'default_samplerate': 48000.0}\n",
      "39: {'name': 'Microphone Array 1 (AMDAfdInstall Wave Microphone - 0)', 'index': 39, 'hostapi': 3, 'max_input_channels': 2, 'max_output_channels': 0, 'default_low_input_latency': 0.01, 'default_low_output_latency': 0.01, 'default_high_input_latency': 0.04, 'default_high_output_latency': 0.04, 'default_samplerate': 48000.0}\n",
      "40: {'name': 'Microphone Array 2 (AMDAfdInstall Wave Microphone - 0)', 'index': 40, 'hostapi': 3, 'max_input_channels': 1, 'max_output_channels': 0, 'default_low_input_latency': 0.01, 'default_low_output_latency': 0.01, 'default_high_input_latency': 0.04, 'default_high_output_latency': 0.04, 'default_samplerate': 16000.0}\n",
      "41: {'name': 'Output (NVIDIA High Definition Audio)', 'index': 41, 'hostapi': 3, 'max_input_channels': 0, 'max_output_channels': 2, 'default_low_input_latency': 0.01, 'default_low_output_latency': 0.01, 'default_high_input_latency': 0.04, 'default_high_output_latency': 0.04, 'default_samplerate': 44100.0}\n",
      "42: {'name': 'MIDI (DroidCam Audio)', 'index': 42, 'hostapi': 3, 'max_input_channels': 1, 'max_output_channels': 0, 'default_low_input_latency': 0.01, 'default_low_output_latency': 0.01, 'default_high_input_latency': 0.08533333333333333, 'default_high_output_latency': 0.08533333333333333, 'default_samplerate': 16000.0}\n",
      "43: {'name': 'Output (DroidCam Audio)', 'index': 43, 'hostapi': 3, 'max_input_channels': 0, 'max_output_channels': 1, 'default_low_input_latency': 0.01, 'default_low_output_latency': 0.01, 'default_high_input_latency': 0.08533333333333333, 'default_high_output_latency': 0.08533333333333333, 'default_samplerate': 16000.0}\n",
      "44: {'name': 'Output (USB Audio)', 'index': 44, 'hostapi': 3, 'max_input_channels': 0, 'max_output_channels': 2, 'default_low_input_latency': 0.01, 'default_low_output_latency': 0.01, 'default_high_input_latency': 0.04, 'default_high_output_latency': 0.04, 'default_samplerate': 44100.0}\n",
      "45: {'name': 'Headset (USB Audio)', 'index': 45, 'hostapi': 3, 'max_input_channels': 1, 'max_output_channels': 0, 'default_low_input_latency': 0.01, 'default_low_output_latency': 0.01, 'default_high_input_latency': 0.04, 'default_high_output_latency': 0.04, 'default_samplerate': 44100.0}\n",
      "46: {'name': 'Microphone ()', 'index': 46, 'hostapi': 3, 'max_input_channels': 2, 'max_output_channels': 0, 'default_low_input_latency': 0.01, 'default_low_output_latency': 0.01, 'default_high_input_latency': 0.08533333333333333, 'default_high_output_latency': 0.08533333333333333, 'default_samplerate': 44100.0}\n",
      "47: {'name': 'Headphones (DGM20 USB Microphone)', 'index': 47, 'hostapi': 3, 'max_input_channels': 0, 'max_output_channels': 2, 'default_low_input_latency': 0.01, 'default_low_output_latency': 0.01, 'default_high_input_latency': 0.08533333333333333, 'default_high_output_latency': 0.08533333333333333, 'default_samplerate': 48000.0}\n",
      "48: {'name': 'Microphone (DGM20 USB Microphone)', 'index': 48, 'hostapi': 3, 'max_input_channels': 2, 'max_output_channels': 0, 'default_low_input_latency': 0.01, 'default_low_output_latency': 0.01, 'default_high_input_latency': 0.08533333333333333, 'default_high_output_latency': 0.08533333333333333, 'default_samplerate': 48000.0}\n"
     ]
    }
   ],
   "source": [
    "import sounddevice as sd\n",
    "\n",
    "# Liệt kê toàn bộ thiết bị âm thanh\n",
    "devices = sd.query_devices()\n",
    "\n",
    "# In danh sách thiết bị\n",
    "print(\"Danh sách thiết bị âm thanh có sẵn:\\n\")\n",
    "for i, device in enumerate(devices):\n",
    "    print(f\"{i}: {device}\")\n"
   ]
  },
  {
   "cell_type": "code",
   "execution_count": 75,
   "metadata": {},
   "outputs": [
    {
     "name": "stdout",
     "output_type": "stream",
     "text": [
      "Bắt đầu ghi âm cho user_A, lưu vào data/user_A/user_A_20.wav...\n",
      "Ghi âm xong!\n",
      "Đã lưu file: data/user_A/user_A_20.wav\n"
     ]
    }
   ],
   "source": [
    "import sounddevice as sd\n",
    "import soundfile as sf\n",
    "import os\n",
    "\n",
    "# Cấu hình ghi âm\n",
    "device_index = 4  # Chọn Microphone Array (AMD Audio Dev)\n",
    "duration = 4  # Ghi âm trong 5 giây\n",
    "fs = 44100  # Tần số lấy mẫu\n",
    "\n",
    "# Chọn user để ghi âm\n",
    "user_name = \"user_A\"  # Thay đổi thành \"user_B\" nếu ghi âm cho user B\n",
    "save_dir = f\"data/{user_name}\"\n",
    "\n",
    "# Tạo thư mục nếu chưa có\n",
    "os.makedirs(save_dir, exist_ok=True)\n",
    "\n",
    "# Tìm số thứ tự file tiếp theo\n",
    "existing_files = [f for f in os.listdir(save_dir) if f.endswith(\".wav\")]\n",
    "file_count = len(existing_files) + 1\n",
    "output_filename = f\"{save_dir}/{user_name}_{file_count}.wav\"\n",
    "\n",
    "# Bắt đầu ghi âm\n",
    "print(f\"Bắt đầu ghi âm cho {user_name}, lưu vào {output_filename}...\")\n",
    "recording = sd.rec(\n",
    "    int(duration * fs), samplerate=fs, channels=1, dtype=\"int16\", device=device_index\n",
    ")\n",
    "sd.wait()  # Chờ ghi âm hoàn tất\n",
    "print(\"Ghi âm xong!\")\n",
    "\n",
    "# Lưu file WAV\n",
    "sf.write(output_filename, recording, fs)\n",
    "print(f\"Đã lưu file: {output_filename}\")"
   ]
  }
 ],
 "metadata": {
  "kernelspec": {
   "display_name": "Python 3",
   "language": "python",
   "name": "python3"
  },
  "language_info": {
   "codemirror_mode": {
    "name": "ipython",
    "version": 3
   },
   "file_extension": ".py",
   "mimetype": "text/x-python",
   "name": "python",
   "nbconvert_exporter": "python",
   "pygments_lexer": "ipython3",
   "version": "3.10.6"
  }
 },
 "nbformat": 4,
 "nbformat_minor": 2
}
